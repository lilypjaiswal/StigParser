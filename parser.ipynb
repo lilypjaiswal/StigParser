{
 "cells": [
  {
   "cell_type": "code",
   "execution_count": 38,
   "metadata": {},
   "outputs": [
    {
     "name": "stdout",
     "output_type": "stream",
     "text": [
      "Parsing XML file CHECKLIST_TEMPLATE_RHEL.ckl\n",
      "{'version': '1', 'classification': 'UNCLASSIFIED', 'customname': True, 'stigid': 'RHEL_8_STIG', 'description': 'This Security Technical Implementation Guide is published as a tool to improve the security of Department of Defense (DoD) information systems. The requirements are derived from the National Institute of Standards and Technology (NIST) 800-53 and related documents. Comments or proposed revisions to this document should be sent via email to the following address: disa.stig_spt@mail.mil.', 'filename': 'U_RHEL_8_STIG_V1R2_Manual-xccdf.xml', 'releaseinfo': 'Release: 2 Benchmark Date: 23 Apr 2021', 'title': 'Red Hat Enterprise Linux 8 Security Technical Implementation Guide', 'uuid': '557cf52e-1b59-4b0e-a3cf-cd0047e70757', 'notice': 'terms-of-use', 'source': True}\n"
     ]
    }
   ],
   "source": [
    "import xml.etree.ElementTree as et\r\n",
    "import logging\r\n",
    "import pandas as pd\r\n",
    "from typing import Union\r\n",
    "\r\n",
    "# logging at level INFO\r\n",
    "log = logging.getLogger(\"xml_parse\")\r\n",
    "logging.basicConfig(level=logging.INFO)\r\n",
    "\r\n",
    "# parse the XML and get the root \r\n",
    "def parse_XML(xml_file):\r\n",
    "\r\n",
    "    print(f\"Dictonary for STIG_INFO from {xml_file}\")\r\n",
    "  \r\n",
    "    # set the root node for the tree structure\r\n",
    "    root = et.parse(xml_file).getroot()\r\n",
    "\r\n",
    "    # call to get_stig_info and create dictionary\r\n",
    "    si_data_dict = get_stig_info(root)\r\n",
    "    print(si_data_dict)\r\n",
    "\r\n",
    "# create dictionary for SI_DATA\r\n",
    "def get_stig_info(root) -> dict[str, Union[str, bool]]:\r\n",
    "    stig_info_elem = root.find('.//STIG_INFO')\r\n",
    "    si_data_dict = {}\r\n",
    "    for si_data in stig_info_elem.findall(\"SI_DATA\"):\r\n",
    "        sid_name = si_data.find(\"SID_NAME\").text \r\n",
    "        sid_data_el = si_data.find(\"SID_DATA\")\r\n",
    "\r\n",
    "        # not all the tags are the same within SI_DATA\r\n",
    "        if sid_data_el is None:\r\n",
    "            sid_data = True\r\n",
    "        else:\r\n",
    "            sid_data = sid_data_el.text\r\n",
    "\r\n",
    "        si_data_dict[sid_name] = sid_data\r\n",
    "    \r\n",
    "    return si_data_dict\r\n",
    "\r\n",
    "parse_XML (\"CHECKLIST_TEMPLATE_RHEL.ckl\")\r\n"
   ]
  },
  {
   "cell_type": "code",
   "execution_count": null,
   "metadata": {},
   "outputs": [],
   "source": []
  }
 ],
 "metadata": {
  "interpreter": {
   "hash": "33ed715fba39469e0e044a6c71ee0a95535bd3b57439667d44b1fc9581fb658c"
  },
  "kernelspec": {
   "display_name": "Python 3.9.2 64-bit ('base': conda)",
   "name": "python3"
  },
  "language_info": {
   "codemirror_mode": {
    "name": "ipython",
    "version": 3
   },
   "file_extension": ".py",
   "mimetype": "text/x-python",
   "name": "python",
   "nbconvert_exporter": "python",
   "pygments_lexer": "ipython3",
   "version": "3.9.2"
  },
  "orig_nbformat": 4
 },
 "nbformat": 4,
 "nbformat_minor": 2
}