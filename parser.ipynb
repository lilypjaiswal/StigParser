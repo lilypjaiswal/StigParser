{
 "cells": [
  {
   "cell_type": "code",
   "execution_count": 3,
   "source": [
    "import xml.etree.ElementTree as et\n",
    "import logging\n",
    "import pandas as pd\n",
    "from typing import Union\n",
    "import subprocess\n",
    "\n",
    "# logging at level INFO\n",
    "log = logging.getLogger(\"xml_parse\")\n",
    "logging.basicConfig(level=logging.INFO)\n",
    "\n",
    "# parse the XML and get the root \n",
    "def parse_XML(xml_file):\n",
    "\n",
    "    #print(f\"Dictonary for STIG_INFO from {xml_file}\")\n",
    "  \n",
    "    # set the root node for the tree structure\n",
    "    root = et.parse(xml_file).getroot()\n",
    "\n",
    "    # call to get_stig_info and create dictionary\n",
    "    si_data_dict = get_stig_info(root)\n",
    "\n",
    "    # call to get_vuln and create list \n",
    "    (stig_data_list, column_name_list) = get_vuln(root)\n",
    "\n",
    "    # create a data frame of the stig information using column names\n",
    "    stigs_df = pd.DataFrame(stig_data_list, columns=column_name_list)\n",
    "\n",
    "   # contain only 2 columns check text and fix text\n",
    "    fix_df = stigs_df['Check_Content'] + stigs_df['Fix_Text']\n",
    "    \n",
    "    fix_data_list = lambda x : x.split('\\n') if ('$' in x) else '' # check for a '$' if found then split the string into multiple strings\n",
    "\n",
    "    output = list() # final output list\n",
    "\n",
    "    bash_script_start = '$ sudo' # what every bash script begins with (fix: may need to remove sudo)\n",
    "\n",
    "    # loop through 'stigs_df' of joined lists 'Check_Content' & 'Fix_Text' (fix: take needed date from var... column_names)\n",
    "    for combinded_list in (stigs_df['Check_Content']+stigs_df['Fix_Text']):\n",
    "        output.append([x for x in fix_data_list(combinded_list) if x.startswith(bash_script_start)]) #create a new list from 'fix_data_list' output and iterate from the output checking 'bash_script_start' to see if it matches for output\n",
    "    # print(output) #final out put is a list of list strings [[\"\"]..[\"\"]]\n",
    "\n",
    "\n",
    "    # running the command\n",
    "    command = output[0][0][2::]\n",
    "    print(f\"Attempted command: {command}\")\n",
    "    proc = subprocess.Popen(command, shell=True, stdout=subprocess.PIPE) #run the command \n",
    "    return_code = proc.wait() # wait to get return code to see if excecution was good (A None value indicates that the process hasn’t terminated yet.)\n",
    "    for line in proc.stdout:\n",
    "        print(f\"stdout: {line.rstrip()}\")\n",
    "\n",
    "\n",
    "# create dictionary for SI_DATA\n",
    "def get_stig_info(root) -> dict['str', Union[str, bool]]:\n",
    "    stig_info_elem = root.find('.//STIG_INFO')\n",
    "    si_data_dict = {}\n",
    "    for si_data in stig_info_elem.findall(\"SI_DATA\"):\n",
    "        sid_name = si_data.find(\"SID_NAME\").text \n",
    "        sid_data_el = si_data.find(\"SID_DATA\")\n",
    "\n",
    "        # not all the tags are the same within SI_DATA\n",
    "        if sid_data_el is None:\n",
    "            sid_data = True\n",
    "        else:\n",
    "            sid_data = sid_data_el.text\n",
    "\n",
    "        si_data_dict[sid_name] = sid_data\n",
    "    \n",
    "    return si_data_dict\n",
    "\n",
    "def get_vuln(root):\n",
    "    vuln_elems = root.findall('.//VULN')\n",
    "    stig_data_list = []\n",
    "    column_names = [elem.text for elem in vuln_elems[0].findall(\"STIG_DATA/VULN_ATTRIBUTE\")]\n",
    "    #print(column_names)\n",
    "\n",
    "    for vuln_elem in vuln_elems:\n",
    "        vuln_elem_data_list = []\n",
    "        for stig_attribute_data_elem in vuln_elem.findall(\"STIG_DATA/ATTRIBUTE_DATA\"):\n",
    "            if stig_attribute_data_elem is None:\n",
    "                attribute_data = None\n",
    "            else:\n",
    "                attribute_data = stig_attribute_data_elem.text\n",
    "            vuln_elem_data_list.append(attribute_data)\n",
    "        stig_data_list.append(vuln_elem_data_list)\n",
    "    return (stig_data_list, column_names)\n",
    "\n",
    "def write_to_csv(data_frame):\n",
    "    filename = \"STIGS.csv\"\n",
    "    #puts everything in csv\n",
    "    data_frame.to_csv(filename)\n",
    "   \n",
    "\n",
    "\n",
    "    \n",
    "# call the file to be parsed and printed\n",
    "parse_XML (\"CHECKLIST_TEMPLATE_RHEL.ckl\")\n"
   ],
   "outputs": [
    {
     "output_type": "stream",
     "name": "stdout",
     "text": [
      "Attempted command: sudo cat /etc/redhat-release\n"
     ]
    },
    {
     "output_type": "stream",
     "name": "stderr",
     "text": [
      "sudo: a terminal is required to read the password; either use the -S option to read from standard input or configure an askpass helper\n"
     ]
    }
   ],
   "metadata": {
    "tags": []
   }
  },
  {
   "cell_type": "code",
   "execution_count": null,
   "source": [],
   "outputs": [],
   "metadata": {}
  }
 ],
 "metadata": {
  "interpreter": {
   "hash": "36cf16204b8548560b1c020c4e8fb5b57f0e4c58016f52f2d4be01e192833930"
  },
  "kernelspec": {
   "name": "python3",
   "display_name": "Python 3.9.2 64-bit"
  },
  "language_info": {
   "name": "python",
   "version": "3.9.2",
   "mimetype": "text/x-python",
   "codemirror_mode": {
    "name": "ipython",
    "version": 3
   },
   "pygments_lexer": "ipython3",
   "nbconvert_exporter": "python",
   "file_extension": ".py"
  },
  "orig_nbformat": 4
 },
 "nbformat": 4,
 "nbformat_minor": 2
}