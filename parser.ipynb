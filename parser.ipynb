{
 "metadata": {
  "language_info": {
   "codemirror_mode": {
    "name": "ipython",
    "version": 3
   },
   "file_extension": ".py",
   "mimetype": "text/x-python",
   "name": "python",
   "nbconvert_exporter": "python",
   "pygments_lexer": "ipython3",
   "version": "3.9.5"
  },
  "orig_nbformat": 4,
  "kernelspec": {
   "name": "python3",
   "display_name": "Python 3.9.5 64-bit"
  },
  "interpreter": {
   "hash": "69c35a6117f54deb41bdf5456a7ab2dc34e357d46c31abd660cce26b3420f06c"
  }
 },
 "nbformat": 4,
 "nbformat_minor": 2,
 "cells": [
  {
   "cell_type": "code",
   "execution_count": 100,
   "metadata": {},
   "outputs": [
    {
     "output_type": "stream",
     "name": "stdout",
     "text": [
      "STIGS/iSTIG/STIG_INFO/SI_DATA[SID_NAME=\"version\"]/SID_NAME\n"
     ]
    }
   ],
   "source": [
    "# import the libraries for pandas and tree structure\n",
    "import xml.etree.ElementTree as et\n",
    "import pandas as pd\n",
    "\n",
    "# parse through an xml and create a panda database with specified columns \n",
    "def parse_XML(xml_file):\n",
    "    # set the root node for the tree structure\n",
    "    root = et.parse(xml_file).getroot()\n",
    "    # create an empty list\n",
    "    rows = []\n",
    "    new_words = [\"version\", \"classification\", \"releaseinfo\", \"title\"] \n",
    "    name_path = 'STIGS/iSTIG/STIG_INFO/SI_DATA[SID_NAME=\"CHANGE\"]/SID_NAME'\n",
    "    data_path = 'STIGS/iSTIG/STIG_INFO/SI_DATA[SID_NAME=\"CHANGE\"]/SID_DATA'\n",
    "\n",
    "    print (name_path.replace(\"CHANGE\", \"version\"))\n",
    "\n",
    "    # # use find to search elements and check the tag's value to see if matching with find and do the same with its next element\n",
    "    # version = root.find('STIGS/iSTIG/STIG_INFO/SI_DATA[SID_NAME=\"version\"]/SID_NAME')\n",
    "    # version_data = root.find('STIGS/iSTIG/STIG_INFO/SI_DATA[SID_NAME=\"version\"]/SID_DATA')\n",
    "    # classification = root.find('STIGS/iSTIG/STIG_INFO/SI_DATA[SID_NAME=\"classification\"]/SID_NAME')\n",
    "    # classification_data = root.find('STIGS/iSTIG/STIG_INFO/SI_DATA[SID_NAME=\"classification\"]/SID_DATA')\n",
    "    # releaseinfo = root.find('STIGS/iSTIG/STIG_INFO/SI_DATA[SID_NAME=\"releaseinfo\"]/SID_NAME')\n",
    "    # releaseinfo_data = root.find('STIGS/iSTIG/STIG_INFO/SI_DATA[SID_NAME=\"releaseinfo\"]/SID_DATA')\n",
    "    # title = root.find('STIGS/iSTIG/STIG_INFO/SI_DATA[SID_NAME=\"title\"]/SID_NAME')\n",
    "    # title_data = root.find('STIGS/iSTIG/STIG_INFO/SI_DATA[SID_NAME=\"title\"]/SID_DATA')\n",
    "\n",
    "    # # print off the data\n",
    "    # print (\"STIG INFO\\n\" + version.text + \": \" + version_data.text + \"\\n\" + classification.text + \": \" +                 classification_data.text + \"\\n\" + releaseinfo.text + \": \" + releaseinfo_data.text + \"\\n\" + title.text + \": \"     + title_data.text + \"\\n\\n\")\n",
    "\n",
    "    # https://medium.com/@robertopreste/from-xml-to-pandas-dataframes-9292980b1c1c\n",
    "    # for node in root: \n",
    "    #     res = []\n",
    "    #     res.append(node.attrib.get(df_cols[0]))\n",
    "    #     for el in df_cols[1:]:\n",
    "    #         if node is not None and node.find(el) is not None:\n",
    "    #             res.append(node.find(el).text)\n",
    "    #         else:\n",
    "    #             res.append(None)\n",
    "    #     rows.append({df_cols[i]:res[i] for i, _ in enumerate(df_cols)})\n",
    "    # out_df = pd.DataFrame(rows, columns=df_cols)\n",
    "    # return out_df\n",
    "        \n",
    "\n",
    "# calling the parse_XML function with the proper xml file as an argument\n",
    "parse_XML (\"checklist_rhel.ckl\")\n"
   ]
  },
  {
   "cell_type": "code",
   "execution_count": null,
   "metadata": {},
   "outputs": [],
   "source": []
  }
 ]
}