{
 "metadata": {
  "language_info": {
   "codemirror_mode": {
    "name": "ipython",
    "version": 3
   },
   "file_extension": ".py",
   "mimetype": "text/x-python",
   "name": "python",
   "nbconvert_exporter": "python",
   "pygments_lexer": "ipython3",
   "version": "3.9.5"
  },
  "orig_nbformat": 4,
  "kernelspec": {
   "name": "python3",
   "display_name": "Python 3.9.5 64-bit"
  },
  "interpreter": {
   "hash": "69c35a6117f54deb41bdf5456a7ab2dc34e357d46c31abd660cce26b3420f06c"
  }
 },
 "nbformat": 4,
 "nbformat_minor": 2,
 "cells": [
  {
   "cell_type": "code",
   "execution_count": 55,
   "metadata": {},
   "outputs": [
    {
     "output_type": "stream",
     "name": "stdout",
     "text": [
      "Current name paths:  ['STIGS/iSTIG/STIG_INFO/SI_DATA[SID_NAME=\"version\"]/SID_NAME', 'STIGS/iSTIG/STIG_INFO/SI_DATA[SID_NAME=\"classification\"]/SID_NAME', 'STIGS/iSTIG/STIG_INFO/SI_DATA[SID_NAME=\"releaseinfo\"]/SID_NAME', 'STIGS/iSTIG/STIG_INFO/SI_DATA[SID_NAME=\"title\"]/SID_NAME', 'STIGS/iSTIG/STIG_INFO/SI_DATA[SID_NAME=\"description\"]/SID_NAME'] \n\nCurrent data paths:  ['STIGS/iSTIG/STIG_INFO/SI_DATA[SID_NAME=\"version\"]/SID_DATA', 'STIGS/iSTIG/STIG_INFO/SI_DATA[SID_NAME=\"classification\"]/SID_DATA', 'STIGS/iSTIG/STIG_INFO/SI_DATA[SID_NAME=\"releaseinfo\"]/SID_DATA', 'STIGS/iSTIG/STIG_INFO/SI_DATA[SID_NAME=\"title\"]/SID_DATA', 'STIGS/iSTIG/STIG_INFO/SI_DATA[SID_NAME=\"description\"]/SID_DATA'] \n\nCurrent vuln paths:  ['STIGS/iSTIG/VULN/STIG_DATA[VULN_ATTRIBUTE=\"Vuln_Num\"]/VULN_ATTRIBUTE', 'STIGS/iSTIG/VULN/STIG_DATA[VULN_ATTRIBUTE=\"Severity\"]/VULN_ATTRIBUTE', 'STIGS/iSTIG/VULN/STIG_DATA[VULN_ATTRIBUTE=\"Group_Title\"]/VULN_ATTRIBUTE', 'STIGS/iSTIG/VULN/STIG_DATA[VULN_ATTRIBUTE=\"Rule_ID\"]/VULN_ATTRIBUTE', 'STIGS/iSTIG/VULN/STIG_DATA[VULN_ATTRIBUTE=\"Check_Content\"]/VULN_ATTRIBUTE', 'STIGS/iSTIG/VULN/STIG_DATA[VULN_ATTRIBUTE=\"Fix_Text\"]/VULN_ATTRIBUTE'] \n\nCurrent attr paths:  ['STIGS/iSTIG/VULN/STIG_DATA[VULN_ATTRIBUTE=\"Vuln_Num\"]/ATTRIBUTE_DATA', 'STIGS/iSTIG/VULN/STIG_DATA[VULN_ATTRIBUTE=\"Severity\"]/ATTRIBUTE_DATA', 'STIGS/iSTIG/VULN/STIG_DATA[VULN_ATTRIBUTE=\"Group_Title\"]/ATTRIBUTE_DATA', 'STIGS/iSTIG/VULN/STIG_DATA[VULN_ATTRIBUTE=\"Rule_ID\"]/ATTRIBUTE_DATA', 'STIGS/iSTIG/VULN/STIG_DATA[VULN_ATTRIBUTE=\"Check_Content\"]/ATTRIBUTE_DATA', 'STIGS/iSTIG/VULN/STIG_DATA[VULN_ATTRIBUTE=\"Fix_Text\"]/ATTRIBUTE_DATA'] \n\n"
     ]
    }
   ],
   "source": [
    "# import the libraries for pandas and tree structure\n",
    "import xml.etree.ElementTree as et\n",
    "import pandas as pd\n",
    "\n",
    "# choose the relevant fields of the stig\n",
    "stig_info = [\"version\", \"classification\", \"releaseinfo\", \"title\", \"description\"] \n",
    "vuln_info = [\"Vuln_Num\", \"Severity\", \"Group_Title\", \"Rule_ID\", \"Check_Content\", \"Fix_Text\"]\n",
    "\n",
    "# paths for stig info data\n",
    "name_path = 'STIGS/iSTIG/STIG_INFO/SI_DATA[SID_NAME=\"CHANGE\"]/SID_NAME'\n",
    "data_path = 'STIGS/iSTIG/STIG_INFO/SI_DATA[SID_NAME=\"CHANGE\"]/SID_DATA'\n",
    "\n",
    "# two new lists of paths\n",
    "name_paths = []\n",
    "data_paths = []\n",
    "\n",
    "# choose relevant fields for vulnerability attributes\n",
    "vuln_attr_path = 'STIGS/iSTIG/VULN/STIG_DATA[VULN_ATTRIBUTE=\"CHANGE\"]/VULN_ATTRIBUTE'\n",
    "attr_data_path = 'STIGS/iSTIG/VULN/STIG_DATA[VULN_ATTRIBUTE=\"CHANGE\"]/ATTRIBUTE_DATA'\n",
    "\n",
    "# two new lists of paths \n",
    "vuln_attr_paths = []\n",
    "attr_data_paths = []\n",
    "\n",
    "# create a function to replace information without changing original\n",
    "def replace_search_tag (path, temp_tag, real_tag):\n",
    "    s = path.replace(temp_tag, real_tag)\n",
    "    return s\n",
    "\n",
    "# iterate through length of the list and populate the lists with keywords\n",
    "def populate_list(keywords_list, our_path_list, our_path):\n",
    "    our_iter = iter(keywords_list)\n",
    "    for x in range(len(keywords_list)):\n",
    "        our_path_list.append(replace_search_tag(our_path, \"CHANGE\", next(our_iter)))\n",
    "    return our_path_list\n",
    "\n",
    "populate_list(stig_info, name_paths, name_path)\n",
    "populate_list(stig_info, data_paths, data_path)\n",
    "\n",
    "# print out all current paths\n",
    "print ('Current name paths: ', name_paths, \"\\n\")\n",
    "print ('Current data paths: ', data_paths, \"\\n\")\n",
    "\n",
    "# parse through an xml and create a panda database with specified columns \n",
    "def parse_XML(xml_file):\n",
    "    # set the root node for the tree structure\n",
    "    root = et.parse(xml_file).getroot()\n",
    "\n",
    "    # populate lists \n",
    "    populate_list(vuln_info, vuln_attr_paths, vuln_attr_path)\n",
    "    populate_list(vuln_info, attr_data_paths, attr_data_path)\n",
    "\n",
    "    print ('Current vuln paths: ', vuln_attr_paths, \"\\n\")\n",
    "    print ('Current attr paths: ', attr_data_paths, \"\\n\")\n",
    "\n",
    "    # # use find to search elements and check the tag's value to see if matching with find and do the same with its next element\n",
    "    # version = root.find('STIGS/iSTIG/STIG_INFO/SI_DATA[SID_NAME=\"version\"]/SID_NAME')\n",
    "    # version_data = root.find('STIGS/iSTIG/STIG_INFO/SI_DATA[SID_NAME=\"version\"]/SID_DATA')\n",
    "    # classification = root.find('STIGS/iSTIG/STIG_INFO/SI_DATA[SID_NAME=\"classification\"]/SID_NAME')\n",
    "    # classification_data = root.find('STIGS/iSTIG/STIG_INFO/SI_DATA[SID_NAME=\"classification\"]/SID_DATA')\n",
    "    # releaseinfo = root.find('STIGS/iSTIG/STIG_INFO/SI_DATA[SID_NAME=\"releaseinfo\"]/SID_NAME')\n",
    "    # releaseinfo_data = root.find('STIGS/iSTIG/STIG_INFO/SI_DATA[SID_NAME=\"releaseinfo\"]/SID_DATA')\n",
    "    # title = root.find('STIGS/iSTIG/STIG_INFO/SI_DATA[SID_NAME=\"title\"]/SID_NAME')\n",
    "    # title_data = root.find('STIGS/iSTIG/STIG_INFO/SI_DATA[SID_NAME=\"title\"]/SID_DATA')\n",
    "\n",
    "    # # print off the data\n",
    "    # print (\"STIG INFO\\n\" + version.text + \": \" + version_data.text + \"\\n\" + classification.text + \": \" +                 classification_data.text + \"\\n\" + releaseinfo.text + \": \" + releaseinfo_data.text + \"\\n\" + title.text + \": \"     + title_data.text + \"\\n\\n\")\n",
    "\n",
    "    # https://medium.com/@robertopreste/from-xml-to-pandas-dataframes-9292980b1c1c\n",
    "    # for node in root: \n",
    "    #     res = []\n",
    "    #     res.append(node.attrib.get(df_cols[0]))\n",
    "    #     for el in df_cols[1:]:\n",
    "    #         if node is not None and node.find(el) is not None:\n",
    "    #             res.append(node.find(el).text)\n",
    "    #         else:\n",
    "    #             res.append(None)\n",
    "    #     rows.append({df_cols[i]:res[i] for i, _ in enumerate(df_cols)})\n",
    "    # out_df = pd.DataFrame(rows, columns=df_cols)\n",
    "    # return out_df\n",
    "        \n",
    "\n",
    "# calling the parse_XML function with the proper xml file as an argument\n",
    "parse_XML (\"CHECKLIST_TEMPLATE_RHEL.ckl\")\n"
   ]
  },
  {
   "cell_type": "code",
   "execution_count": null,
   "metadata": {},
   "outputs": [],
   "source": []
  }
 ]
}